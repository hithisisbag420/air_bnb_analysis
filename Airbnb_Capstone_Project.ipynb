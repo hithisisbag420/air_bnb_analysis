{
  "cells": [
    {
      "cell_type": "markdown",
      "metadata": {
        "colab_type": "text",
        "id": "view-in-github"
      },
      "source": [
        "<a href=\"https://colab.research.google.com/github/devsuvendu/Airbnb-bookings-Analysis/blob/main/Airbnb_Capstone_Project.ipynb\" target=\"_parent\"><img src=\"https://colab.research.google.com/assets/colab-badge.svg\" alt=\"Open In Colab\"/></a>"
      ]
    },
    {
      "cell_type": "markdown",
      "metadata": {
        "id": "Y06xIdG26kRF"
      },
      "source": [
        "## <b> Since 2008, guests and hosts have used Airbnb to expand on traveling possibilities and present a more unique, personalized way of experiencing the world. Today, Airbnb became one of a kind service that is used and recognized by the whole world. Data analysis on millions of listings provided through Airbnb is a crucial factor for the company. These millions of listings generate a lot of data - data that can be analyzed and used for security, business decisions, understanding of customers' and providers' (hosts) behavior and performance on the platform, guiding marketing initiatives, implementation of innovative additional services and much more. </b>\n",
        "\n",
        "## <b>This dataset has around 49,000 observations in it with 16 columns and it is a mix between categorical and numeric values. </b>\n",
        "\n",
        "## <b> Explore and analyze the data to discover key understandings (not limited to these) such as : \n",
        "* What can we learn about different hosts and areas?\n",
        "* What can we learn from predictions? (ex: locations, prices, reviews, etc)\n",
        "* Which hosts are the busiest and why?\n",
        "* Is there any noticeable difference of traffic among different areas and what could be the reason for it? </b>"
      ]
    },
    {
      "cell_type": "markdown",
      "metadata": {
        "id": "RQ7NLFBur1X0"
      },
      "source": [
        "# importing all requirement libraries"
      ]
    },
    {
      "cell_type": "code",
      "execution_count": 1,
      "metadata": {
        "id": "EIFLJV79jfFD"
      },
      "outputs": [],
      "source": [
        "# importing libraries\n",
        "import numpy as np\n",
        "import pandas as pd\n",
        "import matplotlib.pyplot as plt\n",
        "import seaborn as sns\n",
        "%matplotlib inline"
      ]
    },
    {
      "cell_type": "code",
      "execution_count": 12,
      "metadata": {
        "id": "qkRpDrD5jfRc"
      },
      "outputs": [],
      "source": [
        "\n",
        "airbnb_df=pd.read_csv(f\"AB_NYC_2019.csv\")"
      ]
    },
    {
      "cell_type": "code",
      "execution_count": 13,
      "metadata": {
        "colab": {
          "base_uri": "https://localhost:8080/",
          "height": 461
        },
        "id": "3I6eWAnnjfTy",
        "outputId": "8197cea6-a8d0-404f-f6ee-3019712c5a61"
      },
      "outputs": [
        {
          "data": {
            "text/html": [
              "<div>\n",
              "<style scoped>\n",
              "    .dataframe tbody tr th:only-of-type {\n",
              "        vertical-align: middle;\n",
              "    }\n",
              "\n",
              "    .dataframe tbody tr th {\n",
              "        vertical-align: top;\n",
              "    }\n",
              "\n",
              "    .dataframe thead th {\n",
              "        text-align: right;\n",
              "    }\n",
              "</style>\n",
              "<table border=\"1\" class=\"dataframe\">\n",
              "  <thead>\n",
              "    <tr style=\"text-align: right;\">\n",
              "      <th></th>\n",
              "      <th>id</th>\n",
              "      <th>name</th>\n",
              "      <th>host_id</th>\n",
              "      <th>host_name</th>\n",
              "      <th>neighbourhood_group</th>\n",
              "      <th>neighbourhood</th>\n",
              "      <th>latitude</th>\n",
              "      <th>longitude</th>\n",
              "      <th>room_type</th>\n",
              "      <th>price</th>\n",
              "      <th>minimum_nights</th>\n",
              "      <th>number_of_reviews</th>\n",
              "      <th>last_review</th>\n",
              "      <th>reviews_per_month</th>\n",
              "      <th>calculated_host_listings_count</th>\n",
              "      <th>availability_365</th>\n",
              "    </tr>\n",
              "  </thead>\n",
              "  <tbody>\n",
              "    <tr>\n",
              "      <th>0</th>\n",
              "      <td>2539</td>\n",
              "      <td>Clean &amp; quiet apt home by the park</td>\n",
              "      <td>2787</td>\n",
              "      <td>John</td>\n",
              "      <td>Brooklyn</td>\n",
              "      <td>Kensington</td>\n",
              "      <td>40.64749</td>\n",
              "      <td>-73.97237</td>\n",
              "      <td>Private room</td>\n",
              "      <td>149</td>\n",
              "      <td>1</td>\n",
              "      <td>9</td>\n",
              "      <td>2018-10-19</td>\n",
              "      <td>0.21</td>\n",
              "      <td>6</td>\n",
              "      <td>365</td>\n",
              "    </tr>\n",
              "    <tr>\n",
              "      <th>1</th>\n",
              "      <td>2595</td>\n",
              "      <td>Skylit Midtown Castle</td>\n",
              "      <td>2845</td>\n",
              "      <td>Jennifer</td>\n",
              "      <td>Manhattan</td>\n",
              "      <td>Midtown</td>\n",
              "      <td>40.75362</td>\n",
              "      <td>-73.98377</td>\n",
              "      <td>Entire home/apt</td>\n",
              "      <td>225</td>\n",
              "      <td>1</td>\n",
              "      <td>45</td>\n",
              "      <td>2019-05-21</td>\n",
              "      <td>0.38</td>\n",
              "      <td>2</td>\n",
              "      <td>355</td>\n",
              "    </tr>\n",
              "    <tr>\n",
              "      <th>2</th>\n",
              "      <td>3647</td>\n",
              "      <td>THE VILLAGE OF HARLEM....NEW YORK !</td>\n",
              "      <td>4632</td>\n",
              "      <td>Elisabeth</td>\n",
              "      <td>Manhattan</td>\n",
              "      <td>Harlem</td>\n",
              "      <td>40.80902</td>\n",
              "      <td>-73.94190</td>\n",
              "      <td>Private room</td>\n",
              "      <td>150</td>\n",
              "      <td>3</td>\n",
              "      <td>0</td>\n",
              "      <td>NaN</td>\n",
              "      <td>NaN</td>\n",
              "      <td>1</td>\n",
              "      <td>365</td>\n",
              "    </tr>\n",
              "    <tr>\n",
              "      <th>3</th>\n",
              "      <td>3831</td>\n",
              "      <td>Cozy Entire Floor of Brownstone</td>\n",
              "      <td>4869</td>\n",
              "      <td>LisaRoxanne</td>\n",
              "      <td>Brooklyn</td>\n",
              "      <td>Clinton Hill</td>\n",
              "      <td>40.68514</td>\n",
              "      <td>-73.95976</td>\n",
              "      <td>Entire home/apt</td>\n",
              "      <td>89</td>\n",
              "      <td>1</td>\n",
              "      <td>270</td>\n",
              "      <td>2019-07-05</td>\n",
              "      <td>4.64</td>\n",
              "      <td>1</td>\n",
              "      <td>194</td>\n",
              "    </tr>\n",
              "    <tr>\n",
              "      <th>4</th>\n",
              "      <td>5022</td>\n",
              "      <td>Entire Apt: Spacious Studio/Loft by central park</td>\n",
              "      <td>7192</td>\n",
              "      <td>Laura</td>\n",
              "      <td>Manhattan</td>\n",
              "      <td>East Harlem</td>\n",
              "      <td>40.79851</td>\n",
              "      <td>-73.94399</td>\n",
              "      <td>Entire home/apt</td>\n",
              "      <td>80</td>\n",
              "      <td>10</td>\n",
              "      <td>9</td>\n",
              "      <td>2018-11-19</td>\n",
              "      <td>0.10</td>\n",
              "      <td>1</td>\n",
              "      <td>0</td>\n",
              "    </tr>\n",
              "  </tbody>\n",
              "</table>\n",
              "</div>"
            ],
            "text/plain": [
              "     id                                              name  host_id  \\\n",
              "0  2539                Clean & quiet apt home by the park     2787   \n",
              "1  2595                             Skylit Midtown Castle     2845   \n",
              "2  3647               THE VILLAGE OF HARLEM....NEW YORK !     4632   \n",
              "3  3831                   Cozy Entire Floor of Brownstone     4869   \n",
              "4  5022  Entire Apt: Spacious Studio/Loft by central park     7192   \n",
              "\n",
              "     host_name neighbourhood_group neighbourhood  latitude  longitude  \\\n",
              "0         John            Brooklyn    Kensington  40.64749  -73.97237   \n",
              "1     Jennifer           Manhattan       Midtown  40.75362  -73.98377   \n",
              "2    Elisabeth           Manhattan        Harlem  40.80902  -73.94190   \n",
              "3  LisaRoxanne            Brooklyn  Clinton Hill  40.68514  -73.95976   \n",
              "4        Laura           Manhattan   East Harlem  40.79851  -73.94399   \n",
              "\n",
              "         room_type  price  minimum_nights  number_of_reviews last_review  \\\n",
              "0     Private room    149               1                  9  2018-10-19   \n",
              "1  Entire home/apt    225               1                 45  2019-05-21   \n",
              "2     Private room    150               3                  0         NaN   \n",
              "3  Entire home/apt     89               1                270  2019-07-05   \n",
              "4  Entire home/apt     80              10                  9  2018-11-19   \n",
              "\n",
              "   reviews_per_month  calculated_host_listings_count  availability_365  \n",
              "0               0.21                               6               365  \n",
              "1               0.38                               2               355  \n",
              "2                NaN                               1               365  \n",
              "3               4.64                               1               194  \n",
              "4               0.10                               1                 0  "
            ]
          },
          "execution_count": 13,
          "metadata": {},
          "output_type": "execute_result"
        }
      ],
      "source": [
        "#Top five rows\n",
        "airbnb_df.head()"
      ]
    },
    {
      "cell_type": "code",
      "execution_count": 14,
      "metadata": {
        "colab": {
          "base_uri": "https://localhost:8080/",
          "height": 513
        },
        "id": "0fPfm4FEzVo6",
        "outputId": "77f84187-8b8a-4ced-f326-03e8d8a17181"
      },
      "outputs": [
        {
          "data": {
            "text/html": [
              "<div>\n",
              "<style scoped>\n",
              "    .dataframe tbody tr th:only-of-type {\n",
              "        vertical-align: middle;\n",
              "    }\n",
              "\n",
              "    .dataframe tbody tr th {\n",
              "        vertical-align: top;\n",
              "    }\n",
              "\n",
              "    .dataframe thead th {\n",
              "        text-align: right;\n",
              "    }\n",
              "</style>\n",
              "<table border=\"1\" class=\"dataframe\">\n",
              "  <thead>\n",
              "    <tr style=\"text-align: right;\">\n",
              "      <th></th>\n",
              "      <th>id</th>\n",
              "      <th>name</th>\n",
              "      <th>host_id</th>\n",
              "      <th>host_name</th>\n",
              "      <th>neighbourhood_group</th>\n",
              "      <th>neighbourhood</th>\n",
              "      <th>latitude</th>\n",
              "      <th>longitude</th>\n",
              "      <th>room_type</th>\n",
              "      <th>price</th>\n",
              "      <th>minimum_nights</th>\n",
              "      <th>number_of_reviews</th>\n",
              "      <th>last_review</th>\n",
              "      <th>reviews_per_month</th>\n",
              "      <th>calculated_host_listings_count</th>\n",
              "      <th>availability_365</th>\n",
              "    </tr>\n",
              "  </thead>\n",
              "  <tbody>\n",
              "    <tr>\n",
              "      <th>48890</th>\n",
              "      <td>36484665</td>\n",
              "      <td>Charming one bedroom - newly renovated rowhouse</td>\n",
              "      <td>8232441</td>\n",
              "      <td>Sabrina</td>\n",
              "      <td>Brooklyn</td>\n",
              "      <td>Bedford-Stuyvesant</td>\n",
              "      <td>40.67853</td>\n",
              "      <td>-73.94995</td>\n",
              "      <td>Private room</td>\n",
              "      <td>70</td>\n",
              "      <td>2</td>\n",
              "      <td>0</td>\n",
              "      <td>NaN</td>\n",
              "      <td>NaN</td>\n",
              "      <td>2</td>\n",
              "      <td>9</td>\n",
              "    </tr>\n",
              "    <tr>\n",
              "      <th>48891</th>\n",
              "      <td>36485057</td>\n",
              "      <td>Affordable room in Bushwick/East Williamsburg</td>\n",
              "      <td>6570630</td>\n",
              "      <td>Marisol</td>\n",
              "      <td>Brooklyn</td>\n",
              "      <td>Bushwick</td>\n",
              "      <td>40.70184</td>\n",
              "      <td>-73.93317</td>\n",
              "      <td>Private room</td>\n",
              "      <td>40</td>\n",
              "      <td>4</td>\n",
              "      <td>0</td>\n",
              "      <td>NaN</td>\n",
              "      <td>NaN</td>\n",
              "      <td>2</td>\n",
              "      <td>36</td>\n",
              "    </tr>\n",
              "    <tr>\n",
              "      <th>48892</th>\n",
              "      <td>36485431</td>\n",
              "      <td>Sunny Studio at Historical Neighborhood</td>\n",
              "      <td>23492952</td>\n",
              "      <td>Ilgar &amp; Aysel</td>\n",
              "      <td>Manhattan</td>\n",
              "      <td>Harlem</td>\n",
              "      <td>40.81475</td>\n",
              "      <td>-73.94867</td>\n",
              "      <td>Entire home/apt</td>\n",
              "      <td>115</td>\n",
              "      <td>10</td>\n",
              "      <td>0</td>\n",
              "      <td>NaN</td>\n",
              "      <td>NaN</td>\n",
              "      <td>1</td>\n",
              "      <td>27</td>\n",
              "    </tr>\n",
              "    <tr>\n",
              "      <th>48893</th>\n",
              "      <td>36485609</td>\n",
              "      <td>43rd St. Time Square-cozy single bed</td>\n",
              "      <td>30985759</td>\n",
              "      <td>Taz</td>\n",
              "      <td>Manhattan</td>\n",
              "      <td>Hell's Kitchen</td>\n",
              "      <td>40.75751</td>\n",
              "      <td>-73.99112</td>\n",
              "      <td>Shared room</td>\n",
              "      <td>55</td>\n",
              "      <td>1</td>\n",
              "      <td>0</td>\n",
              "      <td>NaN</td>\n",
              "      <td>NaN</td>\n",
              "      <td>6</td>\n",
              "      <td>2</td>\n",
              "    </tr>\n",
              "    <tr>\n",
              "      <th>48894</th>\n",
              "      <td>36487245</td>\n",
              "      <td>Trendy duplex in the very heart of Hell's Kitchen</td>\n",
              "      <td>68119814</td>\n",
              "      <td>Christophe</td>\n",
              "      <td>Manhattan</td>\n",
              "      <td>Hell's Kitchen</td>\n",
              "      <td>40.76404</td>\n",
              "      <td>-73.98933</td>\n",
              "      <td>Private room</td>\n",
              "      <td>90</td>\n",
              "      <td>7</td>\n",
              "      <td>0</td>\n",
              "      <td>NaN</td>\n",
              "      <td>NaN</td>\n",
              "      <td>1</td>\n",
              "      <td>23</td>\n",
              "    </tr>\n",
              "  </tbody>\n",
              "</table>\n",
              "</div>"
            ],
            "text/plain": [
              "             id                                               name   host_id  \\\n",
              "48890  36484665    Charming one bedroom - newly renovated rowhouse   8232441   \n",
              "48891  36485057      Affordable room in Bushwick/East Williamsburg   6570630   \n",
              "48892  36485431            Sunny Studio at Historical Neighborhood  23492952   \n",
              "48893  36485609               43rd St. Time Square-cozy single bed  30985759   \n",
              "48894  36487245  Trendy duplex in the very heart of Hell's Kitchen  68119814   \n",
              "\n",
              "           host_name neighbourhood_group       neighbourhood  latitude  \\\n",
              "48890        Sabrina            Brooklyn  Bedford-Stuyvesant  40.67853   \n",
              "48891        Marisol            Brooklyn            Bushwick  40.70184   \n",
              "48892  Ilgar & Aysel           Manhattan              Harlem  40.81475   \n",
              "48893            Taz           Manhattan      Hell's Kitchen  40.75751   \n",
              "48894     Christophe           Manhattan      Hell's Kitchen  40.76404   \n",
              "\n",
              "       longitude        room_type  price  minimum_nights  number_of_reviews  \\\n",
              "48890  -73.94995     Private room     70               2                  0   \n",
              "48891  -73.93317     Private room     40               4                  0   \n",
              "48892  -73.94867  Entire home/apt    115              10                  0   \n",
              "48893  -73.99112      Shared room     55               1                  0   \n",
              "48894  -73.98933     Private room     90               7                  0   \n",
              "\n",
              "      last_review  reviews_per_month  calculated_host_listings_count  \\\n",
              "48890         NaN                NaN                               2   \n",
              "48891         NaN                NaN                               2   \n",
              "48892         NaN                NaN                               1   \n",
              "48893         NaN                NaN                               6   \n",
              "48894         NaN                NaN                               1   \n",
              "\n",
              "       availability_365  \n",
              "48890                 9  \n",
              "48891                36  \n",
              "48892                27  \n",
              "48893                 2  \n",
              "48894                23  "
            ]
          },
          "execution_count": 14,
          "metadata": {},
          "output_type": "execute_result"
        }
      ],
      "source": [
        "# printing bottom five rows for analysis\n",
        "airbnb_df.tail()"
      ]
    },
    {
      "cell_type": "code",
      "execution_count": 15,
      "metadata": {
        "colab": {
          "base_uri": "https://localhost:8080/"
        },
        "id": "XPMaFMAQjfWV",
        "outputId": "fbd2b9b5-b8ea-4734-dcc7-b74280969a98"
      },
      "outputs": [
        {
          "data": {
            "text/plain": [
              "Index(['id', 'name', 'host_id', 'host_name', 'neighbourhood_group',\n",
              "       'neighbourhood', 'latitude', 'longitude', 'room_type', 'price',\n",
              "       'minimum_nights', 'number_of_reviews', 'last_review',\n",
              "       'reviews_per_month', 'calculated_host_listings_count',\n",
              "       'availability_365'],\n",
              "      dtype='object')"
            ]
          },
          "execution_count": 15,
          "metadata": {},
          "output_type": "execute_result"
        }
      ],
      "source": [
        "#all columns\n",
        "airbnb_df.columns"
      ]
    },
    {
      "cell_type": "code",
      "execution_count": 16,
      "metadata": {
        "colab": {
          "base_uri": "https://localhost:8080/"
        },
        "id": "cDLL_5I8jfZn",
        "outputId": "dafed224-71e1-4315-cab1-bcfb2a78c52a"
      },
      "outputs": [
        {
          "data": {
            "text/plain": [
              "(48895, 16)"
            ]
          },
          "execution_count": 16,
          "metadata": {},
          "output_type": "execute_result"
        }
      ],
      "source": [
        "#total size of rows and columns\n",
        "airbnb_df.shape"
      ]
    },
    {
      "cell_type": "code",
      "execution_count": 17,
      "metadata": {
        "colab": {
          "base_uri": "https://localhost:8080/"
        },
        "id": "THZJZ-IeoXhm",
        "outputId": "b9639bbb-cfe4-4b28-fbcb-5e8fccc88acb"
      },
      "outputs": [
        {
          "name": "stdout",
          "output_type": "stream",
          "text": [
            "<class 'pandas.core.frame.DataFrame'>\n",
            "RangeIndex: 48895 entries, 0 to 48894\n",
            "Data columns (total 16 columns):\n",
            " #   Column                          Non-Null Count  Dtype  \n",
            "---  ------                          --------------  -----  \n",
            " 0   id                              48895 non-null  int64  \n",
            " 1   name                            48879 non-null  object \n",
            " 2   host_id                         48895 non-null  int64  \n",
            " 3   host_name                       48874 non-null  object \n",
            " 4   neighbourhood_group             48895 non-null  object \n",
            " 5   neighbourhood                   48895 non-null  object \n",
            " 6   latitude                        48895 non-null  float64\n",
            " 7   longitude                       48895 non-null  float64\n",
            " 8   room_type                       48895 non-null  object \n",
            " 9   price                           48895 non-null  int64  \n",
            " 10  minimum_nights                  48895 non-null  int64  \n",
            " 11  number_of_reviews               48895 non-null  int64  \n",
            " 12  last_review                     38843 non-null  object \n",
            " 13  reviews_per_month               38843 non-null  float64\n",
            " 14  calculated_host_listings_count  48895 non-null  int64  \n",
            " 15  availability_365                48895 non-null  int64  \n",
            "dtypes: float64(3), int64(7), object(6)\n",
            "memory usage: 6.0+ MB\n"
          ]
        }
      ],
      "source": [
        "#check the not null values\n",
        "airbnb_df.info()"
      ]
    },
    {
      "cell_type": "code",
      "execution_count": 18,
      "metadata": {
        "colab": {
          "base_uri": "https://localhost:8080/",
          "height": 175
        },
        "id": "f5tILth9z_uX",
        "outputId": "3ec9a335-5684-4041-8d24-7650a6911cbf"
      },
      "outputs": [
        {
          "data": {
            "text/html": [
              "<div>\n",
              "<style scoped>\n",
              "    .dataframe tbody tr th:only-of-type {\n",
              "        vertical-align: middle;\n",
              "    }\n",
              "\n",
              "    .dataframe tbody tr th {\n",
              "        vertical-align: top;\n",
              "    }\n",
              "\n",
              "    .dataframe thead th {\n",
              "        text-align: right;\n",
              "    }\n",
              "</style>\n",
              "<table border=\"1\" class=\"dataframe\">\n",
              "  <thead>\n",
              "    <tr style=\"text-align: right;\">\n",
              "      <th></th>\n",
              "      <th>name</th>\n",
              "      <th>host_name</th>\n",
              "      <th>neighbourhood_group</th>\n",
              "      <th>neighbourhood</th>\n",
              "      <th>room_type</th>\n",
              "      <th>last_review</th>\n",
              "    </tr>\n",
              "  </thead>\n",
              "  <tbody>\n",
              "    <tr>\n",
              "      <th>count</th>\n",
              "      <td>48879</td>\n",
              "      <td>48874</td>\n",
              "      <td>48895</td>\n",
              "      <td>48895</td>\n",
              "      <td>48895</td>\n",
              "      <td>38843</td>\n",
              "    </tr>\n",
              "    <tr>\n",
              "      <th>unique</th>\n",
              "      <td>47905</td>\n",
              "      <td>11452</td>\n",
              "      <td>5</td>\n",
              "      <td>221</td>\n",
              "      <td>3</td>\n",
              "      <td>1764</td>\n",
              "    </tr>\n",
              "    <tr>\n",
              "      <th>top</th>\n",
              "      <td>Hillside Hotel</td>\n",
              "      <td>Michael</td>\n",
              "      <td>Manhattan</td>\n",
              "      <td>Williamsburg</td>\n",
              "      <td>Entire home/apt</td>\n",
              "      <td>2019-06-23</td>\n",
              "    </tr>\n",
              "    <tr>\n",
              "      <th>freq</th>\n",
              "      <td>18</td>\n",
              "      <td>417</td>\n",
              "      <td>21661</td>\n",
              "      <td>3920</td>\n",
              "      <td>25409</td>\n",
              "      <td>1413</td>\n",
              "    </tr>\n",
              "  </tbody>\n",
              "</table>\n",
              "</div>"
            ],
            "text/plain": [
              "                  name host_name neighbourhood_group neighbourhood  \\\n",
              "count            48879     48874               48895         48895   \n",
              "unique           47905     11452                   5           221   \n",
              "top     Hillside Hotel   Michael           Manhattan  Williamsburg   \n",
              "freq                18       417               21661          3920   \n",
              "\n",
              "              room_type last_review  \n",
              "count             48895       38843  \n",
              "unique                3        1764  \n",
              "top     Entire home/apt  2019-06-23  \n",
              "freq              25409        1413  "
            ]
          },
          "execution_count": 18,
          "metadata": {},
          "output_type": "execute_result"
        }
      ],
      "source": [
        "# describe of object type data in airbnb dataset\n",
        "airbnb_df.describe(include='object')"
      ]
    },
    {
      "cell_type": "markdown",
      "metadata": {
        "id": "DxZnjCI84pzq"
      },
      "source": [
        "**cleaning the data**"
      ]
    },
    {
      "attachments": {},
      "cell_type": "markdown",
      "metadata": {},
      "source": [
        "\n",
        "The inplace=True parameter is used to modify the DataFrame in-place, meaning the changes will be applied directly to the DataFrame object without creating a new DataFrame. "
      ]
    },
    {
      "cell_type": "code",
      "execution_count": 19,
      "metadata": {
        "id": "HIrKaVQQodt8"
      },
      "outputs": [],
      "source": [
        "#Drop the columns whose are not requirement\n",
        "airbnb_df.drop(['latitude','longitude','last_review','reviews_per_month'],axis='columns',inplace=True)"
      ]
    },
    {
      "cell_type": "code",
      "execution_count": 20,
      "metadata": {
        "colab": {
          "base_uri": "https://localhost:8080/",
          "height": 461
        },
        "id": "vAR69uBrq1FM",
        "outputId": "4d51681e-eb07-486f-cfa9-fea1ab3de711"
      },
      "outputs": [
        {
          "data": {
            "text/html": [
              "<div>\n",
              "<style scoped>\n",
              "    .dataframe tbody tr th:only-of-type {\n",
              "        vertical-align: middle;\n",
              "    }\n",
              "\n",
              "    .dataframe tbody tr th {\n",
              "        vertical-align: top;\n",
              "    }\n",
              "\n",
              "    .dataframe thead th {\n",
              "        text-align: right;\n",
              "    }\n",
              "</style>\n",
              "<table border=\"1\" class=\"dataframe\">\n",
              "  <thead>\n",
              "    <tr style=\"text-align: right;\">\n",
              "      <th></th>\n",
              "      <th>id</th>\n",
              "      <th>name</th>\n",
              "      <th>host_id</th>\n",
              "      <th>host_name</th>\n",
              "      <th>neighbourhood_group</th>\n",
              "      <th>neighbourhood</th>\n",
              "      <th>room_type</th>\n",
              "      <th>price</th>\n",
              "      <th>minimum_nights</th>\n",
              "      <th>number_of_reviews</th>\n",
              "      <th>calculated_host_listings_count</th>\n",
              "      <th>availability_365</th>\n",
              "    </tr>\n",
              "  </thead>\n",
              "  <tbody>\n",
              "    <tr>\n",
              "      <th>0</th>\n",
              "      <td>2539</td>\n",
              "      <td>Clean &amp; quiet apt home by the park</td>\n",
              "      <td>2787</td>\n",
              "      <td>John</td>\n",
              "      <td>Brooklyn</td>\n",
              "      <td>Kensington</td>\n",
              "      <td>Private room</td>\n",
              "      <td>149</td>\n",
              "      <td>1</td>\n",
              "      <td>9</td>\n",
              "      <td>6</td>\n",
              "      <td>365</td>\n",
              "    </tr>\n",
              "    <tr>\n",
              "      <th>1</th>\n",
              "      <td>2595</td>\n",
              "      <td>Skylit Midtown Castle</td>\n",
              "      <td>2845</td>\n",
              "      <td>Jennifer</td>\n",
              "      <td>Manhattan</td>\n",
              "      <td>Midtown</td>\n",
              "      <td>Entire home/apt</td>\n",
              "      <td>225</td>\n",
              "      <td>1</td>\n",
              "      <td>45</td>\n",
              "      <td>2</td>\n",
              "      <td>355</td>\n",
              "    </tr>\n",
              "    <tr>\n",
              "      <th>2</th>\n",
              "      <td>3647</td>\n",
              "      <td>THE VILLAGE OF HARLEM....NEW YORK !</td>\n",
              "      <td>4632</td>\n",
              "      <td>Elisabeth</td>\n",
              "      <td>Manhattan</td>\n",
              "      <td>Harlem</td>\n",
              "      <td>Private room</td>\n",
              "      <td>150</td>\n",
              "      <td>3</td>\n",
              "      <td>0</td>\n",
              "      <td>1</td>\n",
              "      <td>365</td>\n",
              "    </tr>\n",
              "    <tr>\n",
              "      <th>3</th>\n",
              "      <td>3831</td>\n",
              "      <td>Cozy Entire Floor of Brownstone</td>\n",
              "      <td>4869</td>\n",
              "      <td>LisaRoxanne</td>\n",
              "      <td>Brooklyn</td>\n",
              "      <td>Clinton Hill</td>\n",
              "      <td>Entire home/apt</td>\n",
              "      <td>89</td>\n",
              "      <td>1</td>\n",
              "      <td>270</td>\n",
              "      <td>1</td>\n",
              "      <td>194</td>\n",
              "    </tr>\n",
              "    <tr>\n",
              "      <th>4</th>\n",
              "      <td>5022</td>\n",
              "      <td>Entire Apt: Spacious Studio/Loft by central park</td>\n",
              "      <td>7192</td>\n",
              "      <td>Laura</td>\n",
              "      <td>Manhattan</td>\n",
              "      <td>East Harlem</td>\n",
              "      <td>Entire home/apt</td>\n",
              "      <td>80</td>\n",
              "      <td>10</td>\n",
              "      <td>9</td>\n",
              "      <td>1</td>\n",
              "      <td>0</td>\n",
              "    </tr>\n",
              "  </tbody>\n",
              "</table>\n",
              "</div>"
            ],
            "text/plain": [
              "     id                                              name  host_id  \\\n",
              "0  2539                Clean & quiet apt home by the park     2787   \n",
              "1  2595                             Skylit Midtown Castle     2845   \n",
              "2  3647               THE VILLAGE OF HARLEM....NEW YORK !     4632   \n",
              "3  3831                   Cozy Entire Floor of Brownstone     4869   \n",
              "4  5022  Entire Apt: Spacious Studio/Loft by central park     7192   \n",
              "\n",
              "     host_name neighbourhood_group neighbourhood        room_type  price  \\\n",
              "0         John            Brooklyn    Kensington     Private room    149   \n",
              "1     Jennifer           Manhattan       Midtown  Entire home/apt    225   \n",
              "2    Elisabeth           Manhattan        Harlem     Private room    150   \n",
              "3  LisaRoxanne            Brooklyn  Clinton Hill  Entire home/apt     89   \n",
              "4        Laura           Manhattan   East Harlem  Entire home/apt     80   \n",
              "\n",
              "   minimum_nights  number_of_reviews  calculated_host_listings_count  \\\n",
              "0               1                  9                               6   \n",
              "1               1                 45                               2   \n",
              "2               3                  0                               1   \n",
              "3               1                270                               1   \n",
              "4              10                  9                               1   \n",
              "\n",
              "   availability_365  \n",
              "0               365  \n",
              "1               355  \n",
              "2               365  \n",
              "3               194  \n",
              "4                 0  "
            ]
          },
          "execution_count": 20,
          "metadata": {},
          "output_type": "execute_result"
        }
      ],
      "source": [
        "#Requirement of all columns and top five rows\n",
        "airbnb_df.head()"
      ]
    },
    {
      "cell_type": "code",
      "execution_count": 21,
      "metadata": {
        "colab": {
          "base_uri": "https://localhost:8080/",
          "height": 300
        },
        "id": "BXcIPfmyq1Uz",
        "outputId": "9898adeb-8967-416b-87d9-96404dd9d168"
      },
      "outputs": [
        {
          "data": {
            "text/html": [
              "<div>\n",
              "<style scoped>\n",
              "    .dataframe tbody tr th:only-of-type {\n",
              "        vertical-align: middle;\n",
              "    }\n",
              "\n",
              "    .dataframe tbody tr th {\n",
              "        vertical-align: top;\n",
              "    }\n",
              "\n",
              "    .dataframe thead th {\n",
              "        text-align: right;\n",
              "    }\n",
              "</style>\n",
              "<table border=\"1\" class=\"dataframe\">\n",
              "  <thead>\n",
              "    <tr style=\"text-align: right;\">\n",
              "      <th></th>\n",
              "      <th>id</th>\n",
              "      <th>host_id</th>\n",
              "      <th>price</th>\n",
              "      <th>minimum_nights</th>\n",
              "      <th>number_of_reviews</th>\n",
              "      <th>calculated_host_listings_count</th>\n",
              "      <th>availability_365</th>\n",
              "    </tr>\n",
              "  </thead>\n",
              "  <tbody>\n",
              "    <tr>\n",
              "      <th>count</th>\n",
              "      <td>4.889500e+04</td>\n",
              "      <td>4.889500e+04</td>\n",
              "      <td>48895.000000</td>\n",
              "      <td>48895.000000</td>\n",
              "      <td>48895.000000</td>\n",
              "      <td>48895.000000</td>\n",
              "      <td>48895.000000</td>\n",
              "    </tr>\n",
              "    <tr>\n",
              "      <th>mean</th>\n",
              "      <td>1.901714e+07</td>\n",
              "      <td>6.762001e+07</td>\n",
              "      <td>152.720687</td>\n",
              "      <td>7.029962</td>\n",
              "      <td>23.274466</td>\n",
              "      <td>7.143982</td>\n",
              "      <td>112.781327</td>\n",
              "    </tr>\n",
              "    <tr>\n",
              "      <th>std</th>\n",
              "      <td>1.098311e+07</td>\n",
              "      <td>7.861097e+07</td>\n",
              "      <td>240.154170</td>\n",
              "      <td>20.510550</td>\n",
              "      <td>44.550582</td>\n",
              "      <td>32.952519</td>\n",
              "      <td>131.622289</td>\n",
              "    </tr>\n",
              "    <tr>\n",
              "      <th>min</th>\n",
              "      <td>2.539000e+03</td>\n",
              "      <td>2.438000e+03</td>\n",
              "      <td>0.000000</td>\n",
              "      <td>1.000000</td>\n",
              "      <td>0.000000</td>\n",
              "      <td>1.000000</td>\n",
              "      <td>0.000000</td>\n",
              "    </tr>\n",
              "    <tr>\n",
              "      <th>25%</th>\n",
              "      <td>9.471945e+06</td>\n",
              "      <td>7.822033e+06</td>\n",
              "      <td>69.000000</td>\n",
              "      <td>1.000000</td>\n",
              "      <td>1.000000</td>\n",
              "      <td>1.000000</td>\n",
              "      <td>0.000000</td>\n",
              "    </tr>\n",
              "    <tr>\n",
              "      <th>50%</th>\n",
              "      <td>1.967728e+07</td>\n",
              "      <td>3.079382e+07</td>\n",
              "      <td>106.000000</td>\n",
              "      <td>3.000000</td>\n",
              "      <td>5.000000</td>\n",
              "      <td>1.000000</td>\n",
              "      <td>45.000000</td>\n",
              "    </tr>\n",
              "    <tr>\n",
              "      <th>75%</th>\n",
              "      <td>2.915218e+07</td>\n",
              "      <td>1.074344e+08</td>\n",
              "      <td>175.000000</td>\n",
              "      <td>5.000000</td>\n",
              "      <td>24.000000</td>\n",
              "      <td>2.000000</td>\n",
              "      <td>227.000000</td>\n",
              "    </tr>\n",
              "    <tr>\n",
              "      <th>max</th>\n",
              "      <td>3.648724e+07</td>\n",
              "      <td>2.743213e+08</td>\n",
              "      <td>10000.000000</td>\n",
              "      <td>1250.000000</td>\n",
              "      <td>629.000000</td>\n",
              "      <td>327.000000</td>\n",
              "      <td>365.000000</td>\n",
              "    </tr>\n",
              "  </tbody>\n",
              "</table>\n",
              "</div>"
            ],
            "text/plain": [
              "                 id       host_id         price  minimum_nights  \\\n",
              "count  4.889500e+04  4.889500e+04  48895.000000    48895.000000   \n",
              "mean   1.901714e+07  6.762001e+07    152.720687        7.029962   \n",
              "std    1.098311e+07  7.861097e+07    240.154170       20.510550   \n",
              "min    2.539000e+03  2.438000e+03      0.000000        1.000000   \n",
              "25%    9.471945e+06  7.822033e+06     69.000000        1.000000   \n",
              "50%    1.967728e+07  3.079382e+07    106.000000        3.000000   \n",
              "75%    2.915218e+07  1.074344e+08    175.000000        5.000000   \n",
              "max    3.648724e+07  2.743213e+08  10000.000000     1250.000000   \n",
              "\n",
              "       number_of_reviews  calculated_host_listings_count  availability_365  \n",
              "count       48895.000000                    48895.000000      48895.000000  \n",
              "mean           23.274466                        7.143982        112.781327  \n",
              "std            44.550582                       32.952519        131.622289  \n",
              "min             0.000000                        1.000000          0.000000  \n",
              "25%             1.000000                        1.000000          0.000000  \n",
              "50%             5.000000                        1.000000         45.000000  \n",
              "75%            24.000000                        2.000000        227.000000  \n",
              "max           629.000000                      327.000000        365.000000  "
            ]
          },
          "execution_count": 21,
          "metadata": {},
          "output_type": "execute_result"
        }
      ],
      "source": [
        "airbnb_df.describe()"
      ]
    },
    {
      "cell_type": "code",
      "execution_count": 22,
      "metadata": {
        "colab": {
          "base_uri": "https://localhost:8080/"
        },
        "id": "JhRFcZr4ufse",
        "outputId": "c8e459ab-18bb-4f51-e373-9a69c9e6efba"
      },
      "outputs": [
        {
          "data": {
            "text/plain": [
              "Index(['id', 'name', 'host_id', 'host_name', 'neighbourhood_group',\n",
              "       'neighbourhood', 'room_type', 'price', 'minimum_nights',\n",
              "       'number_of_reviews', 'calculated_host_listings_count',\n",
              "       'availability_365'],\n",
              "      dtype='object')"
            ]
          },
          "execution_count": 22,
          "metadata": {},
          "output_type": "execute_result"
        }
      ],
      "source": [
        "#requirement columns\n",
        "airbnb_df.columns"
      ]
    },
    {
      "cell_type": "markdown",
      "metadata": {
        "id": "f4D84DLY5JVb"
      },
      "source": [
        "**Relationship analysis between different variables**"
      ]
    },
    {
      "cell_type": "code",
      "execution_count": 23,
      "metadata": {
        "colab": {
          "base_uri": "https://localhost:8080/",
          "height": 629
        },
        "id": "25oiRGx55GOA",
        "outputId": "8b10b462-3100-4396-bb4b-30928820af81"
      },
      "outputs": [
        {
          "name": "stderr",
          "output_type": "stream",
          "text": [
            "C:\\Users\\santa\\AppData\\Local\\Temp\\ipykernel_19180\\1027787296.py:3: FutureWarning: The default value of numeric_only in DataFrame.corr is deprecated. In a future version, it will default to False. Select only valid columns or specify the value of numeric_only to silence this warning.\n",
            "  corelation = airbnb_df.corr()\n"
          ]
        },
        {
          "data": {
            "image/png": "[encoded data removed]",
            "text/plain": [
              "<Figure size 1200x800 with 2 Axes>"
            ]
          },
          "metadata": {},
          "output_type": "display_data"
        }
      ],
      "source": [
        "# Correlation or Relationship analysis between different variables in airbnb dataset.\n",
        "plt.figure(figsize=(12,8))\n",
        "corelation = airbnb_df.corr()\n",
        "sns.heatmap(corelation, xticklabels=corelation.columns, yticklabels=corelation.columns, annot=False, linewidths=0)\n",
        "plt.show()"
      ]
    },
    {
      "cell_type": "markdown",
      "metadata": {
        "id": "cHcmOYkLvu9i"
      },
      "source": [
        "**1.What can we learn about different hosts and areas?**"
      ]
    },
    {
      "attachments": {},
      "cell_type": "markdown",
      "metadata": {},
      "source": [
        "##### airbnb_df: The DataFrame containing Airbnb data.\n",
        "##### groupby(['host_name','neighbourhood']): Groups the data based on the 'host_name' and 'neighbourhood' columns.\n",
        "##### ['calculated_host_listings_count']: Specifies the column on which the count operation is performed within each group.\n",
        "##### count(): Calculates the count of 'calculated_host_listings_count' for each group.\n",
        "##### reset_index(): Resets the index of the resulting DataFrame."
      ]
    },
    {
      "cell_type": "code",
      "execution_count": null,
      "metadata": {
        "colab": {
          "base_uri": "https://localhost:8080/",
          "height": 424
        },
        "id": "DEDxZS1uunGT",
        "outputId": "5ebd7738-f594-442a-8446-a54692568962"
      },
      "outputs": [
        {
          "data": {
            "text/html": [
              "\n",
              "  <div id=\"df-7c3dad8a-b2fa-4807-aed8-446a8a5ce126\">\n",
              "    <div class=\"colab-df-container\">\n",
              "      <div>\n",
              "<style scoped>\n",
              "    .dataframe tbody tr th:only-of-type {\n",
              "        vertical-align: middle;\n",
              "    }\n",
              "\n",
              "    .dataframe tbody tr th {\n",
              "        vertical-align: top;\n",
              "    }\n",
              "\n",
              "    .dataframe thead th {\n",
              "        text-align: right;\n",
              "    }\n",
              "</style>\n",
              "<table border=\"1\" class=\"dataframe\">\n",
              "  <thead>\n",
              "    <tr style=\"text-align: right;\">\n",
              "      <th></th>\n",
              "      <th>host_name</th>\n",
              "      <th>neighbourhood</th>\n",
              "      <th>calculated_host_listings_count</th>\n",
              "    </tr>\n",
              "  </thead>\n",
              "  <tbody>\n",
              "    <tr>\n",
              "      <th>25263</th>\n",
              "      <td>Sonder (NYC)</td>\n",
              "      <td>Financial District</td>\n",
              "      <td>218</td>\n",
              "    </tr>\n",
              "    <tr>\n",
              "      <th>13237</th>\n",
              "      <td>John</td>\n",
              "      <td>Hell's Kitchen</td>\n",
              "      <td>55</td>\n",
              "    </tr>\n",
              "    <tr>\n",
              "      <th>27583</th>\n",
              "      <td>Vida</td>\n",
              "      <td>Greenpoint</td>\n",
              "      <td>52</td>\n",
              "    </tr>\n",
              "    <tr>\n",
              "      <th>25258</th>\n",
              "      <td>Sonder</td>\n",
              "      <td>Financial District</td>\n",
              "      <td>51</td>\n",
              "    </tr>\n",
              "    <tr>\n",
              "      <th>25266</th>\n",
              "      <td>Sonder (NYC)</td>\n",
              "      <td>Murray Hill</td>\n",
              "      <td>50</td>\n",
              "    </tr>\n",
              "    <tr>\n",
              "      <th>...</th>\n",
              "      <td>...</td>\n",
              "      <td>...</td>\n",
              "      <td>...</td>\n",
              "    </tr>\n",
              "    <tr>\n",
              "      <th>11064</th>\n",
              "      <td>Ilsa</td>\n",
              "      <td>Prospect Heights</td>\n",
              "      <td>1</td>\n",
              "    </tr>\n",
              "    <tr>\n",
              "      <th>11062</th>\n",
              "      <td>Ilona</td>\n",
              "      <td>South Slope</td>\n",
              "      <td>1</td>\n",
              "    </tr>\n",
              "    <tr>\n",
              "      <th>11061</th>\n",
              "      <td>Ilona</td>\n",
              "      <td>Sheepshead Bay</td>\n",
              "      <td>1</td>\n",
              "    </tr>\n",
              "    <tr>\n",
              "      <th>11060</th>\n",
              "      <td>Ilona</td>\n",
              "      <td>Gowanus</td>\n",
              "      <td>1</td>\n",
              "    </tr>\n",
              "    <tr>\n",
              "      <th>28868</th>\n",
              "      <td>현선</td>\n",
              "      <td>Morningside Heights</td>\n",
              "      <td>1</td>\n",
              "    </tr>\n",
              "  </tbody>\n",
              "</table>\n",
              "<p>28869 rows × 3 columns</p>\n",
              "</div>\n",
              "      <button class=\"colab-df-convert\" onclick=\"convertToInteractive('df-7c3dad8a-b2fa-4807-aed8-446a8a5ce126')\"\n",
              "              title=\"Convert this dataframe to an interactive table.\"\n",
              "              style=\"display:none;\">\n",
              "        \n",
              "  <svg xmlns=\"http://www.w3.org/2000/svg\" height=\"24px\"viewBox=\"0 0 24 24\"\n",
              "       width=\"24px\">\n",
              "    <path d=\"M0 0h24v24H0V0z\" fill=\"none\"/>\n",
              "    <path d=\"M18.56 5.44l.94 2.06.94-2.06 2.06-.94-2.06-.94-.94-2.06-.94 2.06-2.06.94zm-11 1L8.5 8.5l.94-2.06 2.06-.94-2.06-.94L8.5 2.5l-.94 2.06-2.06.94zm10 10l.94 2.06.94-2.06 2.06-.94-2.06-.94-.94-2.06-.94 2.06-2.06.94z\"/><path d=\"M17.41 7.96l-1.37-1.37c-.4-.4-.92-.59-1.43-.59-.52 0-1.04.2-1.43.59L10.3 9.45l-7.72 7.72c-.78.78-.78 2.05 0 2.83L4 21.41c.39.39.9.59 1.41.59.51 0 1.02-.2 1.41-.59l7.78-7.78 2.81-2.81c.8-.78.8-2.07 0-2.86zM5.41 20L4 18.59l7.72-7.72 1.47 1.35L5.41 20z\"/>\n",
              "  </svg>\n",
              "      </button>\n",
              "      \n",
              "  <style>\n",
              "    .colab-df-container {\n",
              "      display:flex;\n",
              "      flex-wrap:wrap;\n",
              "      gap: 12px;\n",
              "    }\n",
              "\n",
              "    .colab-df-convert {\n",
              "      background-color: #E8F0FE;\n",
              "      border: none;\n",
              "      border-radius: 50%;\n",
              "      cursor: pointer;\n",
              "      display: none;\n",
              "      fill: #1967D2;\n",
              "      height: 32px;\n",
              "      padding: 0 0 0 0;\n",
              "      width: 32px;\n",
              "    }\n",
              "\n",
              "    .colab-df-convert:hover {\n",
              "      background-color: #E2EBFA;\n",
              "      box-shadow: 0px 1px 2px rgba(60, 64, 67, 0.3), 0px 1px 3px 1px rgba(60, 64, 67, 0.15);\n",
              "      fill: #174EA6;\n",
              "    }\n",
              "\n",
              "    [theme=dark] .colab-df-convert {\n",
              "      background-color: #3B4455;\n",
              "      fill: #D2E3FC;\n",
              "    }\n",
              "\n",
              "    [theme=dark] .colab-df-convert:hover {\n",
              "      background-color: #434B5C;\n",
              "      box-shadow: 0px 1px 3px 1px rgba(0, 0, 0, 0.15);\n",
              "      filter: drop-shadow(0px 1px 2px rgba(0, 0, 0, 0.3));\n",
              "      fill: #FFFFFF;\n",
              "    }\n",
              "  </style>\n",
              "\n",
              "      <script>\n",
              "        const buttonEl =\n",
              "          document.querySelector('#df-7c3dad8a-b2fa-4807-aed8-446a8a5ce126 button.colab-df-convert');\n",
              "        buttonEl.style.display =\n",
              "          google.colab.kernel.accessAllowed ? 'block' : 'none';\n",
              "\n",
              "        async function convertToInteractive(key) {\n",
              "          const element = document.querySelector('#df-7c3dad8a-b2fa-4807-aed8-446a8a5ce126');\n",
              "          const dataTable =\n",
              "            await google.colab.kernel.invokeFunction('convertToInteractive',\n",
              "                                                     [key], {});\n",
              "          if (!dataTable) return;\n",
              "\n",
              "          const docLinkHtml = 'Like what you see? Visit the ' +\n",
              "            '<a target=\"_blank\" href=https://colab.research.google.com/notebooks/data_table.ipynb>data table notebook</a>'\n",
              "            + ' to learn more about interactive tables.';\n",
              "          element.innerHTML = '';\n",
              "          dataTable['output_type'] = 'display_data';\n",
              "          await google.colab.output.renderOutput(dataTable, element);\n",
              "          const docLink = document.createElement('div');\n",
              "          docLink.innerHTML = docLinkHtml;\n",
              "          element.appendChild(docLink);\n",
              "        }\n",
              "      </script>\n",
              "    </div>\n",
              "  </div>\n",
              "  "
            ],
            "text/plain": [
              "          host_name        neighbourhood  calculated_host_listings_count\n",
              "25263  Sonder (NYC)   Financial District                             218\n",
              "13237          John       Hell's Kitchen                              55\n",
              "27583          Vida           Greenpoint                              52\n",
              "25258        Sonder   Financial District                              51\n",
              "25266  Sonder (NYC)          Murray Hill                              50\n",
              "...             ...                  ...                             ...\n",
              "11064          Ilsa     Prospect Heights                               1\n",
              "11062         Ilona          South Slope                               1\n",
              "11061         Ilona       Sheepshead Bay                               1\n",
              "11060         Ilona              Gowanus                               1\n",
              "28868            현선  Morningside Heights                               1\n",
              "\n",
              "[28869 rows x 3 columns]"
            ]
          },
          "execution_count": 32,
          "metadata": {},
          "output_type": "execute_result"
        }
      ],
      "source": [
        "different_host_area=airbnb_df.groupby(['host_name','neighbourhood'])['calculated_host_listings_count'].count().reset_index()\n",
        "different_host_area.sort_values('calculated_host_listings_count',ascending=False)\n"
      ]
    },
    {
      "cell_type": "code",
      "execution_count": 24,
      "metadata": {
        "colab": {
          "base_uri": "https://localhost:8080/"
        },
        "id": "fT14ulMhdkBb",
        "outputId": "a9653cec-25af-4005-fa03-fa902a38e801"
      },
      "outputs": [
        {
          "data": {
            "text/plain": [
              "array(['Kensington', 'Midtown', 'Harlem', 'Clinton Hill', 'East Harlem',\n",
              "       'Murray Hill', 'Bedford-Stuyvesant', \"Hell's Kitchen\",\n",
              "       'Upper West Side', 'Chinatown', 'South Slope', 'West Village',\n",
              "       'Williamsburg', 'Fort Greene', 'Chelsea', 'Crown Heights',\n",
              "       'Park Slope', 'Windsor Terrace', 'Inwood', 'East Village',\n",
              "       'Greenpoint', 'Bushwick', 'Flatbush', 'Lower East Side',\n",
              "       'Prospect-Lefferts Gardens', 'Long Island City', 'Kips Bay',\n",
              "       'SoHo', 'Upper East Side', 'Prospect Heights',\n",
              "       'Washington Heights', 'Woodside', 'Brooklyn Heights',\n",
              "       'Carroll Gardens', 'Gowanus', 'Flatlands', 'Cobble Hill',\n",
              "       'Flushing', 'Boerum Hill', 'Sunnyside', 'DUMBO', 'St. George',\n",
              "       'Highbridge', 'Financial District', 'Ridgewood',\n",
              "       'Morningside Heights', 'Jamaica', 'Middle Village', 'NoHo',\n",
              "       'Ditmars Steinway', 'Flatiron District', 'Roosevelt Island',\n",
              "       'Greenwich Village', 'Little Italy', 'East Flatbush',\n",
              "       'Tompkinsville', 'Astoria', 'Clason Point', 'Eastchester',\n",
              "       'Kingsbridge', 'Two Bridges', 'Queens Village', 'Rockaway Beach',\n",
              "       'Forest Hills', 'Nolita', 'Woodlawn', 'University Heights',\n",
              "       'Gravesend', 'Gramercy', 'Allerton', 'East New York',\n",
              "       'Theater District', 'Concourse Village', 'Sheepshead Bay',\n",
              "       'Emerson Hill', 'Fort Hamilton', 'Bensonhurst', 'Tribeca',\n",
              "       'Shore Acres', 'Sunset Park', 'Concourse', 'Elmhurst',\n",
              "       'Brighton Beach', 'Jackson Heights', 'Cypress Hills', 'St. Albans',\n",
              "       'Arrochar', 'Rego Park', 'Wakefield', 'Clifton', 'Bay Ridge',\n",
              "       'Graniteville', 'Spuyten Duyvil', 'Stapleton', 'Briarwood',\n",
              "       'Ozone Park', 'Columbia St', 'Vinegar Hill', 'Mott Haven',\n",
              "       'Longwood', 'Canarsie', 'Battery Park City', 'Civic Center',\n",
              "       'East Elmhurst', 'New Springville', 'Morris Heights', 'Arverne',\n",
              "       'Cambria Heights', 'Tottenville', 'Mariners Harbor', 'Concord',\n",
              "       'Borough Park', 'Bayside', 'Downtown Brooklyn', 'Port Morris',\n",
              "       'Fieldston', 'Kew Gardens', 'Midwood', 'College Point',\n",
              "       'Mount Eden', 'City Island', 'Glendale', 'Port Richmond',\n",
              "       'Red Hook', 'Richmond Hill', 'Bellerose', 'Maspeth',\n",
              "       'Williamsbridge', 'Soundview', 'Woodhaven', 'Woodrow',\n",
              "       'Co-op City', 'Stuyvesant Town', 'Parkchester', 'North Riverdale',\n",
              "       'Dyker Heights', 'Bronxdale', 'Sea Gate', 'Riverdale',\n",
              "       'Kew Gardens Hills', 'Bay Terrace', 'Norwood', 'Claremont Village',\n",
              "       'Whitestone', 'Fordham', 'Bayswater', 'Navy Yard', 'Brownsville',\n",
              "       'Eltingville', 'Fresh Meadows', 'Mount Hope', 'Lighthouse Hill',\n",
              "       'Springfield Gardens', 'Howard Beach', 'Belle Harbor',\n",
              "       'Jamaica Estates', 'Van Nest', 'Morris Park', 'West Brighton',\n",
              "       'Far Rockaway', 'South Ozone Park', 'Tremont', 'Corona',\n",
              "       'Great Kills', 'Manhattan Beach', 'Marble Hill', 'Dongan Hills',\n",
              "       'Castleton Corners', 'East Morrisania', 'Hunts Point', 'Neponsit',\n",
              "       'Pelham Bay', 'Randall Manor', 'Throgs Neck', 'Todt Hill',\n",
              "       'West Farms', 'Silver Lake', 'Morrisania', 'Laurelton',\n",
              "       'Grymes Hill', 'Holliswood', 'Pelham Gardens', 'Belmont',\n",
              "       'Rosedale', 'Edgemere', 'New Brighton', 'Midland Beach',\n",
              "       'Baychester', 'Melrose', 'Bergen Beach', 'Richmondtown',\n",
              "       'Howland Hook', 'Schuylerville', 'Coney Island', 'New Dorp Beach',\n",
              "       \"Prince's Bay\", 'South Beach', 'Bath Beach', 'Jamaica Hills',\n",
              "       'Oakwood', 'Castle Hill', 'Hollis', 'Douglaston', 'Huguenot',\n",
              "       'Olinville', 'Edenwald', 'Grant City', 'Westerleigh',\n",
              "       'Bay Terrace, Staten Island', 'Westchester Square', 'Little Neck',\n",
              "       'Fort Wadsworth', 'Rosebank', 'Unionport', 'Mill Basin',\n",
              "       'Arden Heights', \"Bull's Head\", 'New Dorp', 'Rossville',\n",
              "       'Breezy Point', 'Willowbrook'], dtype=object)"
            ]
          },
          "execution_count": 24,
          "metadata": {},
          "output_type": "execute_result"
        }
      ],
      "source": [
        "areas = airbnb_df.neighbourhood.unique()\n",
        "areas"
      ]
    },
    {
      "attachments": {},
      "cell_type": "markdown",
      "metadata": {},
      "source": [
        "* sns.countplot(): This function is used to create a count plot, which shows the count of occurrences of each category in a categorical variable.\n",
        "* x=airbnb_df['neighbourhood']: Specifies the column to be plotted on the x-axis, which is 'neighbourhood' in this case.\n",
        "* palette=\"plasma\": Sets the color palette for the count plot. The \"plasma\" palette is specified here, but you can choose any other available palette or omit this parameter to *use the default palette."
      ]
    },
    {
      "cell_type": "code",
      "execution_count": 25,
      "metadata": {
        "colab": {
          "base_uri": "https://localhost:8080/",
          "height": 350
        },
        "id": "GdNzqN9-f2CW",
        "outputId": "5292b48f-cf2e-4885-acf8-2e3a436ec078"
      },
      "outputs": [
        {
          "data": {
            "image/png": "[encoded data removed]",
            "text/plain": [
              "<Figure size 2500x600 with 1 Axes>"
            ]
          },
          "metadata": {},
          "output_type": "display_data"
        }
      ],
      "source": [
        "# all different areas\n",
        "sns.countplot(x = airbnb_df['neighbourhood'], palette=\"plasma\")\n",
        "fig = plt.gcf()\n",
        "fig.set_size_inches(25,6)\n",
        "plt.title('All Different Neighbourhoods')\n",
        "plt.show()"
      ]
    },
    {
      "cell_type": "markdown",
      "metadata": {
        "id": "6GzwuJtUzBCu"
      },
      "source": [
        "**2.What can we learn from predictions? (ex: locations, prices, reviews, etc)**"
      ]
    },
    {
      "cell_type": "code",
      "execution_count": 26,
      "metadata": {
        "id": "HbOQkri1ybG7"
      },
      "outputs": [],
      "source": [
        "areas_review=airbnb_df.groupby(['name','neighbourhood_group','price','minimum_nights'])['number_of_reviews'].count().reset_index()\n",
        "sorting_price=areas_review.sort_values('price',ascending=False)"
      ]
    },
    {
      "attachments": {},
      "cell_type": "markdown",
      "metadata": {},
      "source": [
        "* areas_review: The DataFrame that you want to sort.\n",
        "* sort_values('price', ascending=False): This method is called on the DataFrame and specifies the column 'price' to be used for sorting. \n",
        "* The ascending=False parameter is set to sort the values in descending order."
      ]
    },
    {
      "cell_type": "code",
      "execution_count": 27,
      "metadata": {
        "colab": {
          "base_uri": "https://localhost:8080/",
          "height": 424
        },
        "id": "IUmqUV4J2wr4",
        "outputId": "e4c6f436-4072-4f34-fbeb-5a1008809f17"
      },
      "outputs": [
        {
          "data": {
            "text/html": [
              "<div>\n",
              "<style scoped>\n",
              "    .dataframe tbody tr th:only-of-type {\n",
              "        vertical-align: middle;\n",
              "    }\n",
              "\n",
              "    .dataframe tbody tr th {\n",
              "        vertical-align: top;\n",
              "    }\n",
              "\n",
              "    .dataframe thead th {\n",
              "        text-align: right;\n",
              "    }\n",
              "</style>\n",
              "<table border=\"1\" class=\"dataframe\">\n",
              "  <thead>\n",
              "    <tr style=\"text-align: right;\">\n",
              "      <th></th>\n",
              "      <th>name</th>\n",
              "      <th>neighbourhood_group</th>\n",
              "      <th>price</th>\n",
              "      <th>minimum_nights</th>\n",
              "      <th>number_of_reviews</th>\n",
              "    </tr>\n",
              "  </thead>\n",
              "  <tbody>\n",
              "    <tr>\n",
              "      <th>20219</th>\n",
              "      <td>Furnished room in Astoria apartment</td>\n",
              "      <td>Queens</td>\n",
              "      <td>10000</td>\n",
              "      <td>100</td>\n",
              "      <td>1</td>\n",
              "    </tr>\n",
              "    <tr>\n",
              "      <th>27223</th>\n",
              "      <td>Luxury 1 bedroom apt. -stunning Manhattan views</td>\n",
              "      <td>Brooklyn</td>\n",
              "      <td>10000</td>\n",
              "      <td>5</td>\n",
              "      <td>1</td>\n",
              "    </tr>\n",
              "    <tr>\n",
              "      <th>1112</th>\n",
              "      <td>1-BR Lincoln Center</td>\n",
              "      <td>Manhattan</td>\n",
              "      <td>10000</td>\n",
              "      <td>30</td>\n",
              "      <td>1</td>\n",
              "    </tr>\n",
              "    <tr>\n",
              "      <th>2224</th>\n",
              "      <td>2br - The Heart of NYC: Manhattans Lower East ...</td>\n",
              "      <td>Manhattan</td>\n",
              "      <td>9999</td>\n",
              "      <td>30</td>\n",
              "      <td>1</td>\n",
              "    </tr>\n",
              "    <tr>\n",
              "      <th>36152</th>\n",
              "      <td>Quiet, Clean, Lit @ LES &amp; Chinatown</td>\n",
              "      <td>Manhattan</td>\n",
              "      <td>9999</td>\n",
              "      <td>99</td>\n",
              "      <td>1</td>\n",
              "    </tr>\n",
              "    <tr>\n",
              "      <th>...</th>\n",
              "      <td>...</td>\n",
              "      <td>...</td>\n",
              "      <td>...</td>\n",
              "      <td>...</td>\n",
              "      <td>...</td>\n",
              "    </tr>\n",
              "    <tr>\n",
              "      <th>17021</th>\n",
              "      <td>Cozy yet spacious private brownstone bedroom</td>\n",
              "      <td>Brooklyn</td>\n",
              "      <td>0</td>\n",
              "      <td>1</td>\n",
              "      <td>1</td>\n",
              "    </tr>\n",
              "    <tr>\n",
              "      <th>40501</th>\n",
              "      <td>Spacious comfortable master bedroom with nice ...</td>\n",
              "      <td>Brooklyn</td>\n",
              "      <td>0</td>\n",
              "      <td>1</td>\n",
              "      <td>1</td>\n",
              "    </tr>\n",
              "    <tr>\n",
              "      <th>43823</th>\n",
              "      <td>Sunny, Quiet Room in Greenpoint</td>\n",
              "      <td>Brooklyn</td>\n",
              "      <td>0</td>\n",
              "      <td>2</td>\n",
              "      <td>1</td>\n",
              "    </tr>\n",
              "    <tr>\n",
              "      <th>12955</th>\n",
              "      <td>Coliving in Brooklyn! Modern design / Shared room</td>\n",
              "      <td>Brooklyn</td>\n",
              "      <td>0</td>\n",
              "      <td>30</td>\n",
              "      <td>1</td>\n",
              "    </tr>\n",
              "    <tr>\n",
              "      <th>23145</th>\n",
              "      <td>Huge Brooklyn Brownstone Living, Close to it all.</td>\n",
              "      <td>Brooklyn</td>\n",
              "      <td>0</td>\n",
              "      <td>4</td>\n",
              "      <td>1</td>\n",
              "    </tr>\n",
              "  </tbody>\n",
              "</table>\n",
              "<p>48746 rows × 5 columns</p>\n",
              "</div>"
            ],
            "text/plain": [
              "                                                    name neighbourhood_group  \\\n",
              "20219                Furnished room in Astoria apartment              Queens   \n",
              "27223    Luxury 1 bedroom apt. -stunning Manhattan views            Brooklyn   \n",
              "1112                                 1-BR Lincoln Center           Manhattan   \n",
              "2224   2br - The Heart of NYC: Manhattans Lower East ...           Manhattan   \n",
              "36152                Quiet, Clean, Lit @ LES & Chinatown           Manhattan   \n",
              "...                                                  ...                 ...   \n",
              "17021       Cozy yet spacious private brownstone bedroom            Brooklyn   \n",
              "40501  Spacious comfortable master bedroom with nice ...            Brooklyn   \n",
              "43823                    Sunny, Quiet Room in Greenpoint            Brooklyn   \n",
              "12955  Coliving in Brooklyn! Modern design / Shared room            Brooklyn   \n",
              "23145  Huge Brooklyn Brownstone Living, Close to it all.            Brooklyn   \n",
              "\n",
              "       price  minimum_nights  number_of_reviews  \n",
              "20219  10000             100                  1  \n",
              "27223  10000               5                  1  \n",
              "1112   10000              30                  1  \n",
              "2224    9999              30                  1  \n",
              "36152   9999              99                  1  \n",
              "...      ...             ...                ...  \n",
              "17021      0               1                  1  \n",
              "40501      0               1                  1  \n",
              "43823      0               2                  1  \n",
              "12955      0              30                  1  \n",
              "23145      0               4                  1  \n",
              "\n",
              "[48746 rows x 5 columns]"
            ]
          },
          "execution_count": 27,
          "metadata": {},
          "output_type": "execute_result"
        }
      ],
      "source": [
        "sorting_price"
      ]
    },
    {
      "cell_type": "code",
      "execution_count": 28,
      "metadata": {
        "colab": {
          "base_uri": "https://localhost:8080/",
          "height": 295
        },
        "id": "XjvSrSHm2-XU",
        "outputId": "2919c688-e893-416b-82a3-69992b8bab85"
      },
      "outputs": [
        {
          "data": {
            "image/png": "[encoded data removed]",
            "text/plain": [
              "<Figure size 640x480 with 1 Axes>"
            ]
          },
          "metadata": {},
          "output_type": "display_data"
        }
      ],
      "source": [
        "area=sorting_price['neighbourhood_group']\n",
        "price=sorting_price['price']\n",
        "\n",
        "plt.bar(area,price)\n",
        "plt.rcParams['figure.figsize'] = (10,10)\n",
        "plt.title('table')\n",
        "plt.xlabel('area')\n",
        "plt.ylabel('price')\n",
        "plt.legend\n",
        "plt.show()"
      ]
    },
    {
      "cell_type": "code",
      "execution_count": 29,
      "metadata": {
        "colab": {
          "base_uri": "https://localhost:8080/",
          "height": 424
        },
        "id": "Gp8w1ksS2-au",
        "outputId": "7622c50a-74b7-45fa-e210-bc054f176c6e"
      },
      "outputs": [
        {
          "data": {
            "text/html": [
              "<div>\n",
              "<style scoped>\n",
              "    .dataframe tbody tr th:only-of-type {\n",
              "        vertical-align: middle;\n",
              "    }\n",
              "\n",
              "    .dataframe tbody tr th {\n",
              "        vertical-align: top;\n",
              "    }\n",
              "\n",
              "    .dataframe thead th {\n",
              "        text-align: right;\n",
              "    }\n",
              "</style>\n",
              "<table border=\"1\" class=\"dataframe\">\n",
              "  <thead>\n",
              "    <tr style=\"text-align: right;\">\n",
              "      <th></th>\n",
              "      <th>name</th>\n",
              "      <th>neighbourhood_group</th>\n",
              "      <th>price</th>\n",
              "      <th>minimum_nights</th>\n",
              "      <th>number_of_reviews</th>\n",
              "    </tr>\n",
              "  </thead>\n",
              "  <tbody>\n",
              "    <tr>\n",
              "      <th>22522</th>\n",
              "      <td>Hillside Hotel</td>\n",
              "      <td>Queens</td>\n",
              "      <td>135</td>\n",
              "      <td>1</td>\n",
              "      <td>12</td>\n",
              "    </tr>\n",
              "    <tr>\n",
              "      <th>26246</th>\n",
              "      <td>Loft Suite @ The Box House Hotel</td>\n",
              "      <td>Brooklyn</td>\n",
              "      <td>199</td>\n",
              "      <td>3</td>\n",
              "      <td>11</td>\n",
              "    </tr>\n",
              "    <tr>\n",
              "      <th>4619</th>\n",
              "      <td>Artsy Private BR in Fort Greene Cumberland</td>\n",
              "      <td>Brooklyn</td>\n",
              "      <td>48</td>\n",
              "      <td>30</td>\n",
              "      <td>10</td>\n",
              "    </tr>\n",
              "    <tr>\n",
              "      <th>22523</th>\n",
              "      <td>Hillside Hotel</td>\n",
              "      <td>Queens</td>\n",
              "      <td>165</td>\n",
              "      <td>1</td>\n",
              "      <td>5</td>\n",
              "    </tr>\n",
              "    <tr>\n",
              "      <th>23571</th>\n",
              "      <td>IN MINT CONDITION-STUDIOS EAST 44TH/UNITED NAT...</td>\n",
              "      <td>Manhattan</td>\n",
              "      <td>175</td>\n",
              "      <td>30</td>\n",
              "      <td>5</td>\n",
              "    </tr>\n",
              "    <tr>\n",
              "      <th>...</th>\n",
              "      <td>...</td>\n",
              "      <td>...</td>\n",
              "      <td>...</td>\n",
              "      <td>...</td>\n",
              "      <td>...</td>\n",
              "    </tr>\n",
              "    <tr>\n",
              "      <th>41146</th>\n",
              "      <td>Spotless room w/attached bath. Center of Flushing</td>\n",
              "      <td>Queens</td>\n",
              "      <td>80</td>\n",
              "      <td>1</td>\n",
              "      <td>1</td>\n",
              "    </tr>\n",
              "    <tr>\n",
              "      <th>26037</th>\n",
              "      <td>Like your cousin house</td>\n",
              "      <td>Queens</td>\n",
              "      <td>80</td>\n",
              "      <td>1</td>\n",
              "      <td>1</td>\n",
              "    </tr>\n",
              "    <tr>\n",
              "      <th>7895</th>\n",
              "      <td>Big exposed brick room in The East Village</td>\n",
              "      <td>Manhattan</td>\n",
              "      <td>80</td>\n",
              "      <td>90</td>\n",
              "      <td>1</td>\n",
              "    </tr>\n",
              "    <tr>\n",
              "      <th>38054</th>\n",
              "      <td>Simple, sweet in NOLITA-NYC</td>\n",
              "      <td>Manhattan</td>\n",
              "      <td>80</td>\n",
              "      <td>3</td>\n",
              "      <td>1</td>\n",
              "    </tr>\n",
              "    <tr>\n",
              "      <th>26039</th>\n",
              "      <td>Lil boho gem in Harlem city center</td>\n",
              "      <td>Manhattan</td>\n",
              "      <td>80</td>\n",
              "      <td>2</td>\n",
              "      <td>1</td>\n",
              "    </tr>\n",
              "  </tbody>\n",
              "</table>\n",
              "<p>150 rows × 5 columns</p>\n",
              "</div>"
            ],
            "text/plain": [
              "                                                    name neighbourhood_group  \\\n",
              "22522                                     Hillside Hotel              Queens   \n",
              "26246                   Loft Suite @ The Box House Hotel            Brooklyn   \n",
              "4619          Artsy Private BR in Fort Greene Cumberland            Brooklyn   \n",
              "22523                                     Hillside Hotel              Queens   \n",
              "23571  IN MINT CONDITION-STUDIOS EAST 44TH/UNITED NAT...           Manhattan   \n",
              "...                                                  ...                 ...   \n",
              "41146  Spotless room w/attached bath. Center of Flushing              Queens   \n",
              "26037                             Like your cousin house              Queens   \n",
              "7895          Big exposed brick room in The East Village           Manhattan   \n",
              "38054                        Simple, sweet in NOLITA-NYC           Manhattan   \n",
              "26039                 Lil boho gem in Harlem city center           Manhattan   \n",
              "\n",
              "       price  minimum_nights  number_of_reviews  \n",
              "22522    135               1                 12  \n",
              "26246    199               3                 11  \n",
              "4619      48              30                 10  \n",
              "22523    165               1                  5  \n",
              "23571    175              30                  5  \n",
              "...      ...             ...                ...  \n",
              "41146     80               1                  1  \n",
              "26037     80               1                  1  \n",
              "7895      80              90                  1  \n",
              "38054     80               3                  1  \n",
              "26039     80               2                  1  \n",
              "\n",
              "[150 rows x 5 columns]"
            ]
          },
          "execution_count": 29,
          "metadata": {},
          "output_type": "execute_result"
        }
      ],
      "source": [
        "price_review=sorting_price.sort_values('number_of_reviews',ascending=False).head(150)\n",
        "price_review"
      ]
    },
    {
      "cell_type": "code",
      "execution_count": 31,
      "metadata": {
        "colab": {
          "base_uri": "https://localhost:8080/",
          "height": 351
        },
        "id": "pX8xj6zITyq7",
        "outputId": "a79db868-3b69-455e-82bb-39451a7021a0"
      },
      "outputs": [
        {
          "data": {
            "image/png": "[encoded data removed]",
            "text/plain": [
              "<Figure size 1000x500 with 1 Axes>"
            ]
          },
          "metadata": {},
          "output_type": "display_data"
        }
      ],
      "source": [
        "area=price_review['neighbourhood_group']\n",
        "review=price_review['price']\n",
        "\n",
        "plt.rcParams['figure.figsize']=(10,5)\n",
        "plt.bar(area,review,color='g')\n",
        "plt.title('table')\n",
        "plt.xlabel('num_of_reviews')\n",
        "plt.ylabel('price')\n",
        "plt.show()"
      ]
    },
    {
      "cell_type": "markdown",
      "metadata": {
        "id": "akMLRQEvuEAb"
      },
      "source": [
        "**3.Which hosts are the busiest and why?**"
      ]
    },
    {
      "cell_type": "code",
      "execution_count": 33,
      "metadata": {
        "colab": {
          "base_uri": "https://localhost:8080/",
          "height": 269
        },
        "id": "-ELVq0Rqt3O0",
        "outputId": "3e133fd8-5b3a-44d6-8f63-45ce9c5d05a9"
      },
      "outputs": [
        {
          "data": {
            "text/html": [
              "<div>\n",
              "<style scoped>\n",
              "    .dataframe tbody tr th:only-of-type {\n",
              "        vertical-align: middle;\n",
              "    }\n",
              "\n",
              "    .dataframe tbody tr th {\n",
              "        vertical-align: top;\n",
              "    }\n",
              "\n",
              "    .dataframe thead th {\n",
              "        text-align: right;\n",
              "    }\n",
              "</style>\n",
              "<table border=\"1\" class=\"dataframe\">\n",
              "  <thead>\n",
              "    <tr style=\"text-align: right;\">\n",
              "      <th></th>\n",
              "      <th>host_name</th>\n",
              "      <th>neighbourhood_group</th>\n",
              "      <th>room_type</th>\n",
              "      <th>minimum_nights</th>\n",
              "    </tr>\n",
              "  </thead>\n",
              "  <tbody>\n",
              "    <tr>\n",
              "      <th>0</th>\n",
              "      <td>'Cil</td>\n",
              "      <td>Queens</td>\n",
              "      <td>Private room</td>\n",
              "      <td>1</td>\n",
              "    </tr>\n",
              "    <tr>\n",
              "      <th>1</th>\n",
              "      <td>(Ari) HENRY LEE</td>\n",
              "      <td>Manhattan</td>\n",
              "      <td>Entire home/apt</td>\n",
              "      <td>1</td>\n",
              "    </tr>\n",
              "    <tr>\n",
              "      <th>2</th>\n",
              "      <td>(Email hidden by Airbnb)</td>\n",
              "      <td>Brooklyn</td>\n",
              "      <td>Entire home/apt</td>\n",
              "      <td>2</td>\n",
              "    </tr>\n",
              "    <tr>\n",
              "      <th>3</th>\n",
              "      <td>(Email hidden by Airbnb)</td>\n",
              "      <td>Manhattan</td>\n",
              "      <td>Entire home/apt</td>\n",
              "      <td>1</td>\n",
              "    </tr>\n",
              "    <tr>\n",
              "      <th>4</th>\n",
              "      <td>(Email hidden by Airbnb)</td>\n",
              "      <td>Manhattan</td>\n",
              "      <td>Private room</td>\n",
              "      <td>3</td>\n",
              "    </tr>\n",
              "    <tr>\n",
              "      <th>...</th>\n",
              "      <td>...</td>\n",
              "      <td>...</td>\n",
              "      <td>...</td>\n",
              "      <td>...</td>\n",
              "    </tr>\n",
              "    <tr>\n",
              "      <th>19144</th>\n",
              "      <td>빈나</td>\n",
              "      <td>Manhattan</td>\n",
              "      <td>Private room</td>\n",
              "      <td>1</td>\n",
              "    </tr>\n",
              "    <tr>\n",
              "      <th>19145</th>\n",
              "      <td>소정</td>\n",
              "      <td>Brooklyn</td>\n",
              "      <td>Private room</td>\n",
              "      <td>1</td>\n",
              "    </tr>\n",
              "    <tr>\n",
              "      <th>19146</th>\n",
              "      <td>소정</td>\n",
              "      <td>Manhattan</td>\n",
              "      <td>Private room</td>\n",
              "      <td>1</td>\n",
              "    </tr>\n",
              "    <tr>\n",
              "      <th>19147</th>\n",
              "      <td>진</td>\n",
              "      <td>Manhattan</td>\n",
              "      <td>Entire home/apt</td>\n",
              "      <td>1</td>\n",
              "    </tr>\n",
              "    <tr>\n",
              "      <th>19148</th>\n",
              "      <td>현선</td>\n",
              "      <td>Manhattan</td>\n",
              "      <td>Private room</td>\n",
              "      <td>1</td>\n",
              "    </tr>\n",
              "  </tbody>\n",
              "</table>\n",
              "<p>19149 rows × 4 columns</p>\n",
              "</div>"
            ],
            "text/plain": [
              "                      host_name neighbourhood_group        room_type  \\\n",
              "0                          'Cil              Queens     Private room   \n",
              "1               (Ari) HENRY LEE           Manhattan  Entire home/apt   \n",
              "2      (Email hidden by Airbnb)            Brooklyn  Entire home/apt   \n",
              "3      (Email hidden by Airbnb)           Manhattan  Entire home/apt   \n",
              "4      (Email hidden by Airbnb)           Manhattan     Private room   \n",
              "...                         ...                 ...              ...   \n",
              "19144                        빈나           Manhattan     Private room   \n",
              "19145                        소정            Brooklyn     Private room   \n",
              "19146                        소정           Manhattan     Private room   \n",
              "19147                         진           Manhattan  Entire home/apt   \n",
              "19148                        현선           Manhattan     Private room   \n",
              "\n",
              "       minimum_nights  \n",
              "0                   1  \n",
              "1                   1  \n",
              "2                   2  \n",
              "3                   1  \n",
              "4                   3  \n",
              "...               ...  \n",
              "19144               1  \n",
              "19145               1  \n",
              "19146               1  \n",
              "19147               1  \n",
              "19148               1  \n",
              "\n",
              "[19149 rows x 4 columns]"
            ]
          },
          "execution_count": 33,
          "metadata": {},
          "output_type": "execute_result"
        }
      ],
      "source": [
        "busiest_host=airbnb_df.groupby(['host_name','neighbourhood_group','room_type'])['minimum_nights'].count().reset_index()\n",
        "busiest_host\n"
      ]
    },
    {
      "cell_type": "code",
      "execution_count": 34,
      "metadata": {},
      "outputs": [
        {
          "data": {
            "text/html": [
              "<div>\n",
              "<style scoped>\n",
              "    .dataframe tbody tr th:only-of-type {\n",
              "        vertical-align: middle;\n",
              "    }\n",
              "\n",
              "    .dataframe tbody tr th {\n",
              "        vertical-align: top;\n",
              "    }\n",
              "\n",
              "    .dataframe thead th {\n",
              "        text-align: right;\n",
              "    }\n",
              "</style>\n",
              "<table border=\"1\" class=\"dataframe\">\n",
              "  <thead>\n",
              "    <tr style=\"text-align: right;\">\n",
              "      <th></th>\n",
              "      <th>host_name</th>\n",
              "      <th>neighbourhood_group</th>\n",
              "      <th>room_type</th>\n",
              "      <th>minimum_nights</th>\n",
              "    </tr>\n",
              "  </thead>\n",
              "  <tbody>\n",
              "    <tr>\n",
              "      <th>16549</th>\n",
              "      <td>Sonder (NYC)</td>\n",
              "      <td>Manhattan</td>\n",
              "      <td>Entire home/apt</td>\n",
              "      <td>319</td>\n",
              "    </tr>\n",
              "    <tr>\n",
              "      <th>2295</th>\n",
              "      <td>Blueground</td>\n",
              "      <td>Manhattan</td>\n",
              "      <td>Entire home/apt</td>\n",
              "      <td>230</td>\n",
              "    </tr>\n",
              "    <tr>\n",
              "      <th>12299</th>\n",
              "      <td>Michael</td>\n",
              "      <td>Manhattan</td>\n",
              "      <td>Entire home/apt</td>\n",
              "      <td>143</td>\n",
              "    </tr>\n",
              "    <tr>\n",
              "      <th>9190</th>\n",
              "      <td>Kara</td>\n",
              "      <td>Manhattan</td>\n",
              "      <td>Entire home/apt</td>\n",
              "      <td>129</td>\n",
              "    </tr>\n",
              "    <tr>\n",
              "      <th>4128</th>\n",
              "      <td>David</td>\n",
              "      <td>Manhattan</td>\n",
              "      <td>Entire home/apt</td>\n",
              "      <td>117</td>\n",
              "    </tr>\n",
              "    <tr>\n",
              "      <th>12438</th>\n",
              "      <td>Mike</td>\n",
              "      <td>Manhattan</td>\n",
              "      <td>Entire home/apt</td>\n",
              "      <td>109</td>\n",
              "    </tr>\n",
              "    <tr>\n",
              "      <th>545</th>\n",
              "      <td>Alex</td>\n",
              "      <td>Manhattan</td>\n",
              "      <td>Entire home/apt</td>\n",
              "      <td>98</td>\n",
              "    </tr>\n",
              "  </tbody>\n",
              "</table>\n",
              "</div>"
            ],
            "text/plain": [
              "          host_name neighbourhood_group        room_type  minimum_nights\n",
              "16549  Sonder (NYC)           Manhattan  Entire home/apt             319\n",
              "2295     Blueground           Manhattan  Entire home/apt             230\n",
              "12299       Michael           Manhattan  Entire home/apt             143\n",
              "9190           Kara           Manhattan  Entire home/apt             129\n",
              "4128          David           Manhattan  Entire home/apt             117\n",
              "12438          Mike           Manhattan  Entire home/apt             109\n",
              "545            Alex           Manhattan  Entire home/apt              98"
            ]
          },
          "execution_count": 34,
          "metadata": {},
          "output_type": "execute_result"
        }
      ],
      "source": [
        "valueable_host=busiest_host.sort_values('minimum_nights',ascending=False).head(7)\n",
        "valueable_host"
      ]
    },
    {
      "cell_type": "code",
      "execution_count": 36,
      "metadata": {
        "colab": {
          "base_uri": "https://localhost:8080/",
          "height": 351
        },
        "id": "K1pnEPyvH5vY",
        "outputId": "567ed443-095c-404c-f972-e649d3b24f80"
      },
      "outputs": [
        {
          "data": {
            "image/png": "[encoded data removed]",
            "text/plain": [
              "<Figure size 1000x500 with 1 Axes>"
            ]
          },
          "metadata": {},
          "output_type": "display_data"
        }
      ],
      "source": [
        "hosts = valueable_host['host_name']\n",
        "min_nights = valueable_host['minimum_nights']\n",
        "plt.bar(hosts,min_nights,color='y')\n",
        "plt.title('bigest host')\n",
        "plt.xlabel('name_of_host')\n",
        "plt.ylabel('minimum_night')\n",
        "plt.show()"
      ]
    },
    {
      "cell_type": "markdown",
      "metadata": {
        "id": "VL7PSMHLVF9_"
      },
      "source": [
        "# The highest hoost are 1.sonder(NYC) 2.Blueground 3.Michael"
      ]
    },
    {
      "cell_type": "markdown",
      "metadata": {
        "id": "gRvD1vcxSHpt"
      },
      "source": [
        "**4.Is there any noticeable difference of traffic among different areas and what could be the reason for it?**"
      ]
    },
    {
      "cell_type": "code",
      "execution_count": 37,
      "metadata": {
        "colab": {
          "base_uri": "https://localhost:8080/",
          "height": 520
        },
        "id": "MNgwKrxmt3U3",
        "outputId": "1733b384-4cd1-4869-f58c-56def0da5974"
      },
      "outputs": [
        {
          "data": {
            "text/html": [
              "<div>\n",
              "<style scoped>\n",
              "    .dataframe tbody tr th:only-of-type {\n",
              "        vertical-align: middle;\n",
              "    }\n",
              "\n",
              "    .dataframe tbody tr th {\n",
              "        vertical-align: top;\n",
              "    }\n",
              "\n",
              "    .dataframe thead th {\n",
              "        text-align: right;\n",
              "    }\n",
              "</style>\n",
              "<table border=\"1\" class=\"dataframe\">\n",
              "  <thead>\n",
              "    <tr style=\"text-align: right;\">\n",
              "      <th></th>\n",
              "      <th>neighbourhood_group</th>\n",
              "      <th>room_type</th>\n",
              "      <th>minimum_nights</th>\n",
              "    </tr>\n",
              "  </thead>\n",
              "  <tbody>\n",
              "    <tr>\n",
              "      <th>6</th>\n",
              "      <td>Manhattan</td>\n",
              "      <td>Entire home/apt</td>\n",
              "      <td>13199</td>\n",
              "    </tr>\n",
              "    <tr>\n",
              "      <th>4</th>\n",
              "      <td>Brooklyn</td>\n",
              "      <td>Private room</td>\n",
              "      <td>10132</td>\n",
              "    </tr>\n",
              "    <tr>\n",
              "      <th>3</th>\n",
              "      <td>Brooklyn</td>\n",
              "      <td>Entire home/apt</td>\n",
              "      <td>9559</td>\n",
              "    </tr>\n",
              "    <tr>\n",
              "      <th>7</th>\n",
              "      <td>Manhattan</td>\n",
              "      <td>Private room</td>\n",
              "      <td>7982</td>\n",
              "    </tr>\n",
              "    <tr>\n",
              "      <th>10</th>\n",
              "      <td>Queens</td>\n",
              "      <td>Private room</td>\n",
              "      <td>3372</td>\n",
              "    </tr>\n",
              "    <tr>\n",
              "      <th>9</th>\n",
              "      <td>Queens</td>\n",
              "      <td>Entire home/apt</td>\n",
              "      <td>2096</td>\n",
              "    </tr>\n",
              "    <tr>\n",
              "      <th>1</th>\n",
              "      <td>Bronx</td>\n",
              "      <td>Private room</td>\n",
              "      <td>652</td>\n",
              "    </tr>\n",
              "    <tr>\n",
              "      <th>8</th>\n",
              "      <td>Manhattan</td>\n",
              "      <td>Shared room</td>\n",
              "      <td>480</td>\n",
              "    </tr>\n",
              "    <tr>\n",
              "      <th>5</th>\n",
              "      <td>Brooklyn</td>\n",
              "      <td>Shared room</td>\n",
              "      <td>413</td>\n",
              "    </tr>\n",
              "    <tr>\n",
              "      <th>0</th>\n",
              "      <td>Bronx</td>\n",
              "      <td>Entire home/apt</td>\n",
              "      <td>379</td>\n",
              "    </tr>\n",
              "    <tr>\n",
              "      <th>11</th>\n",
              "      <td>Queens</td>\n",
              "      <td>Shared room</td>\n",
              "      <td>198</td>\n",
              "    </tr>\n",
              "    <tr>\n",
              "      <th>13</th>\n",
              "      <td>Staten Island</td>\n",
              "      <td>Private room</td>\n",
              "      <td>188</td>\n",
              "    </tr>\n",
              "    <tr>\n",
              "      <th>12</th>\n",
              "      <td>Staten Island</td>\n",
              "      <td>Entire home/apt</td>\n",
              "      <td>176</td>\n",
              "    </tr>\n",
              "    <tr>\n",
              "      <th>2</th>\n",
              "      <td>Bronx</td>\n",
              "      <td>Shared room</td>\n",
              "      <td>60</td>\n",
              "    </tr>\n",
              "    <tr>\n",
              "      <th>14</th>\n",
              "      <td>Staten Island</td>\n",
              "      <td>Shared room</td>\n",
              "      <td>9</td>\n",
              "    </tr>\n",
              "  </tbody>\n",
              "</table>\n",
              "</div>"
            ],
            "text/plain": [
              "   neighbourhood_group        room_type  minimum_nights\n",
              "6            Manhattan  Entire home/apt           13199\n",
              "4             Brooklyn     Private room           10132\n",
              "3             Brooklyn  Entire home/apt            9559\n",
              "7            Manhattan     Private room            7982\n",
              "10              Queens     Private room            3372\n",
              "9               Queens  Entire home/apt            2096\n",
              "1                Bronx     Private room             652\n",
              "8            Manhattan      Shared room             480\n",
              "5             Brooklyn      Shared room             413\n",
              "0                Bronx  Entire home/apt             379\n",
              "11              Queens      Shared room             198\n",
              "13       Staten Island     Private room             188\n",
              "12       Staten Island  Entire home/apt             176\n",
              "2                Bronx      Shared room              60\n",
              "14       Staten Island      Shared room               9"
            ]
          },
          "execution_count": 37,
          "metadata": {},
          "output_type": "execute_result"
        }
      ],
      "source": [
        "different_trafic_areas=airbnb_df.groupby(['neighbourhood_group','room_type'])['minimum_nights'].count().reset_index()\n",
        "different_trafic_areas.sort_values('minimum_nights',ascending=False)"
      ]
    },
    {
      "cell_type": "code",
      "execution_count": 38,
      "metadata": {
        "colab": {
          "base_uri": "https://localhost:8080/",
          "height": 350
        },
        "id": "pVtHYhy9t3XA",
        "outputId": "596a2dff-999c-40f8-a04f-68e08578fefe"
      },
      "outputs": [
        {
          "data": {
            "image/png": "[encoded data removed]",
            "text/plain": [
              "<Figure size 1000x500 with 1 Axes>"
            ]
          },
          "metadata": {},
          "output_type": "display_data"
        }
      ],
      "source": [
        "area=different_trafic_areas['room_type']\n",
        "night=different_trafic_areas['minimum_nights']\n",
        "\n",
        "plt.bar(area,night,color='g')\n",
        "plt.title('All_traffic_areas')\n",
        "plt.xlabel('room_type')\n",
        "plt.ylabel('minimum_nights')\n",
        "plt.show()"
      ]
    },
    {
      "cell_type": "markdown",
      "metadata": {
        "id": "nze-FC7pNJ6T"
      },
      "source": [
        "**Finding Total count of each room types?**"
      ]
    },
    {
      "cell_type": "code",
      "execution_count": 39,
      "metadata": {
        "id": "V1I9M7x0PPvh"
      },
      "outputs": [],
      "source": [
        "air_bnb_roomtype=airbnb_df.room_type.unique()"
      ]
    },
    {
      "cell_type": "code",
      "execution_count": 40,
      "metadata": {
        "colab": {
          "base_uri": "https://localhost:8080/"
        },
        "id": "nTVWBaYtPP-_",
        "outputId": "5a808d14-df70-4ef7-d78e-cd59323a2dbc"
      },
      "outputs": [
        {
          "data": {
            "text/plain": [
              "array(['Private room', 'Entire home/apt', 'Shared room'], dtype=object)"
            ]
          },
          "execution_count": 40,
          "metadata": {},
          "output_type": "execute_result"
        }
      ],
      "source": [
        "air_bnb_roomtype"
      ]
    },
    {
      "cell_type": "code",
      "execution_count": 41,
      "metadata": {
        "id": "e3ASt30mPQNc"
      },
      "outputs": [],
      "source": [
        "air_bnb_roomtype_frequency=dict(airbnb_df.room_type.value_counts())"
      ]
    },
    {
      "cell_type": "code",
      "execution_count": 42,
      "metadata": {
        "colab": {
          "base_uri": "https://localhost:8080/"
        },
        "id": "paCnV4tUPQdk",
        "outputId": "9147e751-abbc-49b6-b1ed-b567e5b854ec"
      },
      "outputs": [
        {
          "data": {
            "text/plain": [
              "{'Entire home/apt': 25409, 'Private room': 22326, 'Shared room': 1160}"
            ]
          },
          "execution_count": 42,
          "metadata": {},
          "output_type": "execute_result"
        }
      ],
      "source": [
        "air_bnb_roomtype_frequency"
      ]
    },
    {
      "cell_type": "markdown",
      "metadata": {
        "id": "fKXTpffgblTr"
      },
      "source": [
        "**room availabel per Neighbourhood Group**"
      ]
    },
    {
      "cell_type": "code",
      "execution_count": 43,
      "metadata": {
        "colab": {
          "base_uri": "https://localhost:8080/",
          "height": 459
        },
        "id": "mUwf3276PZ_f",
        "outputId": "e59b89e9-2632-4f53-c9b0-1d3951113b43"
      },
      "outputs": [
        {
          "data": {
            "image/png": "[encoded data removed]",
            "text/plain": [
              "<Figure size 1300x700 with 1 Axes>"
            ]
          },
          "metadata": {},
          "output_type": "display_data"
        }
      ],
      "source": [
        "\n",
        "plt.figure(figsize=(13,7))\n",
        "plt.title(\"Room Type on Neighbourhood Group\")\n",
        "sns.countplot(x = airbnb_df.neighbourhood_group, hue = airbnb_df.room_type, palette=\"muted\")\n",
        "plt.show()\n"
      ]
    },
    {
      "cell_type": "markdown",
      "metadata": {
        "id": "RYYrcwyL51FW"
      },
      "source": [
        "**Price on diffrent neighbourhood_group**"
      ]
    },
    {
      "cell_type": "code",
      "execution_count": 44,
      "metadata": {
        "colab": {
          "base_uri": "https://localhost:8080/",
          "height": 389
        },
        "id": "MDrEqndP5544",
        "outputId": "98f482a9-d81c-41a8-f95c-c8b54c9e02f1"
      },
      "outputs": [
        {
          "data": {
            "image/png": "[encoded data removed]",
            "text/plain": [
              "<Figure size 900x600 with 1 Axes>"
            ]
          },
          "metadata": {},
          "output_type": "display_data"
        }
      ],
      "source": [
        "# price on diffrent neighbourhood_group\n",
        "plt.figure(figsize=(9,6))\n",
        "sns.boxplot(data = airbnb_df, x='neighbourhood_group', y='price',palette='bright', width=0.5)\n",
        "plt.show()"
      ]
    },
    {
      "cell_type": "markdown",
      "metadata": {
        "id": "o3VwNPmX6jV6"
      },
      "source": [
        "**Rooms availabilty in different areas**"
      ]
    },
    {
      "cell_type": "code",
      "execution_count": 45,
      "metadata": {
        "colab": {
          "base_uri": "https://localhost:8080/",
          "height": 389
        },
        "id": "5PeV8Dcw6nWq",
        "outputId": "afdaaaac-be95-43bf-c15c-5235ad800d89"
      },
      "outputs": [
        {
          "data": {
            "image/png": "[encoded data removed]",
            "text/plain": [
              "<Figure size 900x600 with 1 Axes>"
            ]
          },
          "metadata": {},
          "output_type": "display_data"
        }
      ],
      "source": [
        "# rooms availabilty in different areas\n",
        "plt.figure(figsize=(9,6))\n",
        "sns.boxplot(data = airbnb_df, x='neighbourhood_group', y='availability_365',palette='bright', width=0.5)\n",
        "plt.show()"
      ]
    },
    {
      "cell_type": "markdown",
      "metadata": {
        "id": "xDTfcEzndw1D"
      },
      "source": [
        "**The project of analysis the data staying people are Entire home/apt or private which are present in Manhattan,Brooklyn,Queens are in less price.**"
      ]
    },
    {
      "attachments": {},
      "cell_type": "markdown",
      "metadata": {
        "id": "t9NoLsnYZ0AB"
      },
      "source": []
    }
  ],
  "metadata": {
    "colab": {
      "collapsed_sections": [],
      "include_colab_link": true,
      "provenance": []
    },
    "kernelspec": {
      "display_name": "Python 3",
      "language": "python",
      "name": "python3"
    },
    "language_info": {
      "codemirror_mode": {
        "name": "ipython",
        "version": 3
      },
      "file_extension": ".py",
      "mimetype": "text/x-python",
      "name": "python",
      "nbconvert_exporter": "python",
      "pygments_lexer": "ipython3",
      "version": "3.10.10"
    }
  },
  "nbformat": 4,
  "nbformat_minor": 0
}
